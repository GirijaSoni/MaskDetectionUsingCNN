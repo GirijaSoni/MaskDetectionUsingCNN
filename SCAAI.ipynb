{
 "cells": [
  {
   "cell_type": "code",
   "execution_count": null,
   "metadata": {
    "colab": {},
    "colab_type": "code",
    "id": "Asl3uWyiXdL8"
   },
   "outputs": [],
   "source": []
  },
  {
   "cell_type": "code",
   "execution_count": null,
   "metadata": {
    "colab": {
     "base_uri": "https://localhost:8080/",
     "height": 54
    },
    "colab_type": "code",
    "id": "z5IKXom8YAsb",
    "outputId": "ddc1d0d8-f29d-422f-879a-d7861893ddc8",
    "scrolled": true
   },
   "outputs": [],
   "source": []
  },
  {
   "cell_type": "code",
   "execution_count": null,
   "metadata": {
    "colab": {},
    "colab_type": "code",
    "id": "PI8vJ6nkKTXs"
   },
   "outputs": [],
   "source": [
    "#Mask recognition system using ML algos (Keras, tensorflow)\n",
    "#a dataset containing approxmiatly 1500 pictures is loaded for training and testing\n",
    "#CNN is used"
   ]
  },
  {
   "cell_type": "code",
   "execution_count": null,
   "metadata": {
    "colab": {},
    "colab_type": "code",
    "id": "lUZMqdKHX7j9"
   },
   "outputs": [],
   "source": [
    "!pip install -q keras"
   ]
  },
  {
   "cell_type": "code",
   "execution_count": 34,
   "metadata": {
    "colab": {
     "base_uri": "https://localhost:8080/",
     "height": 68
    },
    "colab_type": "code",
    "id": "zQ692CIXYhhA",
    "outputId": "7084cfe1-52b2-4823-c281-736b7339c5e5"
   },
   "outputs": [
    {
     "name": "stdout",
     "output_type": "stream",
     "text": [
      "{'with mask': 0, 'without mask': 1}\n",
      "['with mask', 'without mask']\n",
      "[0, 1]\n"
     ]
    }
   ],
   "source": [
    "import cv2,os\n",
    "#labels are made 1 for with mask and 0 for without\n",
    "data_path=r'C:\\Users\\girij\\OneDrive\\Desktop\\cpp\\dataset-20200803T214416Z-001\\dataset'\n",
    "categories=os.listdir(data_path)\n",
    "labels=[i for i in range(len(categories))]\n",
    "\n",
    "label_dict=dict(zip(categories,labels)) #empty dictionary\n",
    "\n",
    "print(label_dict)\n",
    "print(categories)\n",
    "print(labels)"
   ]
  },
  {
   "cell_type": "code",
   "execution_count": null,
   "metadata": {
    "colab": {},
    "colab_type": "code",
    "id": "vUBABs9IiUgZ"
   },
   "outputs": [],
   "source": [
    "img_size = 100\n",
    "data = []\n",
    "target = []\n",
    "\n",
    "for category in categories:\n",
    "    folder_path=os.path.join(data_path,category)\n",
    "    img_names=os.listdir(folder_path)\n",
    "        \n",
    "    for img_name in img_names:\n",
    "        img_path=os.path.join(folder_path,img_name)\n",
    "        img=cv2.imread(img_path)\n",
    "\n",
    "        try:\n",
    "            gray=cv2.cvtColor(img,cv2.COLOR_BGR2GRAY)           \n",
    "            #Converting the image into gray scale\n",
    "            resized=cv2.resize(gray,(img_size,img_size))\n",
    "            #resizing the gray scale into 50x50, since we need a fixed common size for all the images in the dataset\n",
    "            data.append(resized)\n",
    "            target.append(label_dict[category])\n",
    "            #appending the image and the label(categorized) into the list (dataset)\n",
    "\n",
    "        except Exception as e:\n",
    "            print('Exception:',e)\n",
    "            #if any exception rasied, the exception will be printed here. And pass to the next image"
   ]
  },
  {
   "cell_type": "code",
   "execution_count": 4,
   "metadata": {
    "colab": {},
    "colab_type": "code",
    "id": "-tNl5AoFk8yJ"
   },
   "outputs": [],
   "source": [
    "import numpy as np\n",
    "\n",
    "data=np.array(data)/255.0\n",
    "data=np.reshape(data,(data.shape[0],img_size,img_size,1))\n",
    "target=np.array(target)\n",
    "\n",
    "from keras.utils import np_utils\n",
    "\n",
    "new_target=np_utils.to_categorical(target)\n",
    "\n",
    "np.save('data',data)\n",
    "np.save('target',new_target)"
   ]
  },
  {
   "cell_type": "code",
   "execution_count": 5,
   "metadata": {
    "colab": {},
    "colab_type": "code",
    "id": "Mo0H5bF5cjEj"
   },
   "outputs": [],
   "source": [
    "data=np.load('data.npy')\n",
    "target=np.load('target.npy')"
   ]
  },
  {
   "cell_type": "code",
   "execution_count": 6,
   "metadata": {
    "colab": {},
    "colab_type": "code",
    "id": "XQe1or1BlsIm"
   },
   "outputs": [],
   "source": [
    "from keras.models import Sequential\n",
    "from keras.layers import Dense,Activation,Flatten,Dropout\n",
    "from keras.layers import Conv2D,MaxPooling2D\n",
    "from keras.callbacks import ModelCheckpoint\n",
    "\n",
    "model=Sequential()\n",
    "model.add(Conv2D(200,(3,3),input_shape=data.shape[1:]))\n",
    "model.add(Activation('relu'))\n",
    "model.add(MaxPooling2D(pool_size=(2,2)))\n",
    "\n",
    "#2 cnn layers used\n",
    "model.add(Conv2D(100,(3,3)))\n",
    "model.add(Activation('relu'))\n",
    "model.add(MaxPooling2D(pool_size=(2,2)))\n",
    "#The second convolution layer followed by Relu and MaxPooling layers\n",
    "\n",
    "model.add(Flatten())\n",
    "#dropout to avoid overfitting ,approx 20% for max accuracy\n",
    "model.add(Dropout(0.2))\n",
    "#Flatten layer to stack the output convolutions from second convolution layer\n",
    "model.add(Dense(50,activation='relu'))\n",
    "#Dense layer of 64 neurons\n",
    "model.add(Dense(2,activation='softmax'))\n",
    "#The Final layer with two outputs for two categories\n",
    "\n",
    "model.compile(loss='categorical_crossentropy',optimizer='adam',metrics=['accuracy'])"
   ]
  },
  {
   "cell_type": "code",
   "execution_count": 7,
   "metadata": {
    "colab": {
     "base_uri": "https://localhost:8080/",
     "height": 34
    },
    "colab_type": "code",
    "id": "_G_nlAcLqRg_",
    "outputId": "2e1ed5ab-21fa-4a90-bae9-f516d98c50f4"
   },
   "outputs": [
    {
     "name": "stdout",
     "output_type": "stream",
     "text": [
      "1238\n"
     ]
    }
   ],
   "source": [
    "from sklearn.model_selection import train_test_split\n",
    "train_data,test_data,train_target,test_target=train_test_split(data,target,test_size=0.1)\n",
    "print(len(train_target))"
   ]
  },
  {
   "cell_type": "code",
   "execution_count": 8,
   "metadata": {
    "colab": {
     "base_uri": "https://localhost:8080/",
     "height": 1000
    },
    "colab_type": "code",
    "id": "WI8Wo3oSqY_P",
    "outputId": "ce9b196d-c9c9-4df0-8adc-f3f4aef5509a"
   },
   "outputs": [
    {
     "name": "stdout",
     "output_type": "stream",
     "text": [
      "Epoch 1/20\n",
      "31/31 [==============================] - ETA: 0s - loss: 0.7551 - accuracy: 0.6010WARNING:tensorflow:From C:\\Users\\girij\\anaconda3\\lib\\site-packages\\tensorflow\\python\\training\\tracking\\tracking.py:111: Model.state_updates (from tensorflow.python.keras.engine.training) is deprecated and will be removed in a future version.\n",
      "Instructions for updating:\n",
      "This property should not be used in TensorFlow 2.0, as updates are applied automatically.\n",
      "WARNING:tensorflow:From C:\\Users\\girij\\anaconda3\\lib\\site-packages\\tensorflow\\python\\training\\tracking\\tracking.py:111: Layer.updates (from tensorflow.python.keras.engine.base_layer) is deprecated and will be removed in a future version.\n",
      "Instructions for updating:\n",
      "This property should not be used in TensorFlow 2.0, as updates are applied automatically.\n",
      "INFO:tensorflow:Assets written to: model-001.model\\assets\n",
      "31/31 [==============================] - 75s 2s/step - loss: 0.7551 - accuracy: 0.6010 - val_loss: 0.5592 - val_accuracy: 0.7661\n",
      "Epoch 2/20\n",
      "31/31 [==============================] - ETA: 0s - loss: 0.5074 - accuracy: 0.7505INFO:tensorflow:Assets written to: model-002.model\\assets\n",
      "31/31 [==============================] - 78s 3s/step - loss: 0.5074 - accuracy: 0.7505 - val_loss: 0.3672 - val_accuracy: 0.8629\n",
      "Epoch 3/20\n",
      "31/31 [==============================] - ETA: 0s - loss: 0.3163 - accuracy: 0.8687INFO:tensorflow:Assets written to: model-003.model\\assets\n",
      "31/31 [==============================] - 68s 2s/step - loss: 0.3163 - accuracy: 0.8687 - val_loss: 0.3190 - val_accuracy: 0.8911\n",
      "Epoch 4/20\n",
      "31/31 [==============================] - ETA: 0s - loss: 0.2591 - accuracy: 0.8970INFO:tensorflow:Assets written to: model-004.model\\assets\n",
      "31/31 [==============================] - 71s 2s/step - loss: 0.2591 - accuracy: 0.8970 - val_loss: 0.2187 - val_accuracy: 0.9435\n",
      "Epoch 5/20\n",
      "31/31 [==============================] - ETA: 0s - loss: 0.1769 - accuracy: 0.9444INFO:tensorflow:Assets written to: model-005.model\\assets\n",
      "31/31 [==============================] - 78s 3s/step - loss: 0.1769 - accuracy: 0.9444 - val_loss: 0.1881 - val_accuracy: 0.9516\n",
      "Epoch 6/20\n",
      "31/31 [==============================] - ETA: 0s - loss: 0.1387 - accuracy: 0.9606INFO:tensorflow:Assets written to: model-006.model\\assets\n",
      "31/31 [==============================] - 66s 2s/step - loss: 0.1387 - accuracy: 0.9606 - val_loss: 0.1621 - val_accuracy: 0.9597\n",
      "Epoch 7/20\n",
      "31/31 [==============================] - ETA: 0s - loss: 0.1083 - accuracy: 0.9596INFO:tensorflow:Assets written to: model-007.model\\assets\n",
      "31/31 [==============================] - 79s 3s/step - loss: 0.1083 - accuracy: 0.9596 - val_loss: 0.1595 - val_accuracy: 0.9677\n",
      "Epoch 8/20\n",
      "31/31 [==============================] - 52s 2s/step - loss: 0.0946 - accuracy: 0.9657 - val_loss: 0.1755 - val_accuracy: 0.9435\n",
      "Epoch 9/20\n",
      "31/31 [==============================] - ETA: 0s - loss: 0.0872 - accuracy: 0.9747INFO:tensorflow:Assets written to: model-009.model\\assets\n",
      "31/31 [==============================] - 63s 2s/step - loss: 0.0872 - accuracy: 0.9747 - val_loss: 0.1389 - val_accuracy: 0.9677\n",
      "Epoch 10/20\n",
      "31/31 [==============================] - 58s 2s/step - loss: 0.0731 - accuracy: 0.9717 - val_loss: 0.1752 - val_accuracy: 0.9395\n",
      "Epoch 11/20\n",
      "31/31 [==============================] - 62s 2s/step - loss: 0.0639 - accuracy: 0.9788 - val_loss: 0.1662 - val_accuracy: 0.9516\n",
      "Epoch 12/20\n",
      "31/31 [==============================] - 69s 2s/step - loss: 0.0384 - accuracy: 0.9899 - val_loss: 0.1536 - val_accuracy: 0.9597\n",
      "Epoch 13/20\n",
      "31/31 [==============================] - 67s 2s/step - loss: 0.0282 - accuracy: 0.9929 - val_loss: 0.2088 - val_accuracy: 0.9395\n",
      "Epoch 14/20\n",
      "31/31 [==============================] - 56s 2s/step - loss: 0.0327 - accuracy: 0.9909 - val_loss: 0.2027 - val_accuracy: 0.9556\n",
      "Epoch 15/20\n",
      "31/31 [==============================] - 53s 2s/step - loss: 0.0178 - accuracy: 0.9970 - val_loss: 0.1850 - val_accuracy: 0.9637\n",
      "Epoch 16/20\n",
      "31/31 [==============================] - 55s 2s/step - loss: 0.0310 - accuracy: 0.9879 - val_loss: 0.1719 - val_accuracy: 0.9556\n",
      "Epoch 17/20\n",
      "31/31 [==============================] - 60s 2s/step - loss: 0.0196 - accuracy: 0.9970 - val_loss: 0.1844 - val_accuracy: 0.9597\n",
      "Epoch 18/20\n",
      "31/31 [==============================] - 55s 2s/step - loss: 0.0398 - accuracy: 0.9859 - val_loss: 0.1566 - val_accuracy: 0.9597\n",
      "Epoch 19/20\n",
      "31/31 [==============================] - 51s 2s/step - loss: 0.0174 - accuracy: 0.9960 - val_loss: 0.1739 - val_accuracy: 0.9556\n",
      "Epoch 20/20\n",
      "31/31 [==============================] - 59s 2s/step - loss: 0.0245 - accuracy: 0.9919 - val_loss: 0.2002 - val_accuracy: 0.9556\n"
     ]
    }
   ],
   "source": [
    "#at the checkpoint , an accuracy of 99% is observed, 99 PERCENTTTTTTTTTTTTT!!!!!!!!!! can u beleive it lol\n",
    "checkpoint = ModelCheckpoint('model-{epoch:03d}.model',monitor='val_loss',verbose=0,save_best_only=True,mode='auto')\n",
    "history=model.fit(train_data,train_target,epochs=20,callbacks=[checkpoint],validation_split=0.2)"
   ]
  },
  {
   "cell_type": "code",
   "execution_count": 9,
   "metadata": {
    "colab": {},
    "colab_type": "code",
    "id": "f5kcIRO-rFg4"
   },
   "outputs": [],
   "source": [
    "#cascading for face recognition\n",
    "#lets run it,YAY"
   ]
  },
  {
   "cell_type": "code",
   "execution_count": 1,
   "metadata": {
    "colab": {
     "base_uri": "https://localhost:8080/",
     "height": 34
    },
    "colab_type": "code",
    "id": "SI-27YQAJ0PT",
    "outputId": "67b79015-d2bd-40a3-e8b0-6af298379159"
   },
   "outputs": [
    {
     "name": "stdout",
     "output_type": "stream",
     "text": [
      "hi\n"
     ]
    }
   ],
   "source": [
    "from keras.models import load_model\n",
    "import cv2\n",
    "import numpy as np\n",
    "print(\"hi\")"
   ]
  },
  {
   "cell_type": "code",
   "execution_count": 2,
   "metadata": {
    "colab": {},
    "colab_type": "code",
    "id": "y4Sl2IM-avP2"
   },
   "outputs": [],
   "source": [
    "\n",
    "model = load_model(r'C:\\Users\\girij\\Downloads\\model-017.model')\n",
    "\n",
    "face_clsfr=cv2.CascadeClassifier(r'C:\\Users\\girij\\Downloads\\haarcascade_frontalface_default.xml')\n",
    "\n",
    "source=cv2.VideoCapture(0)\n",
    "labels_dict={0:'MASK',1:'NO MASK'}\n",
    "color_dict={0:(0,255,0),1:(0,0,255)}"
   ]
  },
  {
   "cell_type": "code",
   "execution_count": 3,
   "metadata": {
    "colab": {
     "base_uri": "https://localhost:8080/",
     "height": 321
    },
    "colab_type": "code",
    "id": "JeC_TOkkKX8V",
    "outputId": "d7765e2f-b6c6-4265-a05d-af224ec8f1a8"
   },
   "outputs": [],
   "source": [
    "while(True):\n",
    "\n",
    "    ret,img=source.read()\n",
    "    gray=cv2.cvtColor(img,cv2.COLOR_BGR2GRAY)\n",
    "    faces=face_clsfr.detectMultiScale(gray,1.3,5)  \n",
    "\n",
    "    for x,y,w,h in faces:\n",
    "    \n",
    "        face_img=gray[y:y+w,x:x+w]\n",
    "        resized=cv2.resize(face_img,(100,100))\n",
    "        normalized=resized/255.0\n",
    "        reshaped=np.reshape(normalized,(1,100,100,1))\n",
    "        result=model.predict(reshaped)\n",
    "\n",
    "        label=np.argmax(result,axis=1)[0]\n",
    "      \n",
    "        cv2.rectangle(img,(x,y),(x+w,y+h),color_dict[label],2)\n",
    "        cv2.rectangle(img,(x,y-40),(x+w,y),color_dict[label],-1)\n",
    "        cv2.putText(img, labels_dict[label], (x, y-10),cv2.FONT_HERSHEY_SIMPLEX,0.8,(255,255,255),2)\n",
    "        \n",
    "        \n",
    "    cv2.imshow('LIVE',img)\n",
    "    key=cv2.waitKey(1)\n",
    "    \n",
    "    if(key==27):\n",
    "        break\n",
    "        \n",
    "cv2.destroyAllWindows()\n",
    "source.release()"
   ]
  },
  {
   "cell_type": "code",
   "execution_count": null,
   "metadata": {
    "colab": {},
    "colab_type": "code",
    "id": "5c4mt5jbBRZo"
   },
   "outputs": [],
   "source": []
  }
 ],
 "metadata": {
  "colab": {
   "collapsed_sections": [],
   "name": "SCAAI.ipynb",
   "provenance": []
  },
  "kernelspec": {
   "display_name": "Python 3",
   "language": "python",
   "name": "python3"
  },
  "language_info": {
   "codemirror_mode": {
    "name": "ipython",
    "version": 3
   },
   "file_extension": ".py",
   "mimetype": "text/x-python",
   "name": "python",
   "nbconvert_exporter": "python",
   "pygments_lexer": "ipython3",
   "version": "3.8.3"
  }
 },
 "nbformat": 4,
 "nbformat_minor": 1
}
